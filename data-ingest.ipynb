{
 "metadata": {
  "language_info": {
   "codemirror_mode": {
    "name": "ipython",
    "version": 3
   },
   "file_extension": ".py",
   "mimetype": "text/x-python",
   "name": "python",
   "nbconvert_exporter": "python",
   "pygments_lexer": "ipython3",
   "version": "3.8.5-final"
  },
  "orig_nbformat": 2,
  "kernelspec": {
   "name": "python_defaultSpec_1599606574575",
   "display_name": "Python 3.8.5 64-bit ('data': conda)"
  }
 },
 "nbformat": 4,
 "nbformat_minor": 2,
 "cells": [
  {
   "cell_type": "code",
   "execution_count": 10,
   "metadata": {},
   "outputs": [],
   "source": [
    "import pandas as pd\n",
    "\n",
    "#https://pandas.pydata.org/pandas-docs/stable/reference/api/pandas.read_csv.html\n",
    "airline_incidents = pd.read_csv('data/airline-safety.csv',\n",
    "    usecols=[0,1,2],\n",
    "    names=['airline', 'seat-km/week', 'incidents'],\n",
    "    header=0\n",
    "    # dtype={\n",
    "    #     'airline': str,\n",
    "    #     'seat-km/week': int,\n",
    "    #     'incidents': int\n",
    "    # }\n",
    ")\n",
    "\n"
   ]
  },
  {
   "cell_type": "code",
   "execution_count": 11,
   "metadata": {},
   "outputs": [
    {
     "output_type": "execute_result",
     "data": {
      "text/plain": "airline         object\nseat-km/week     int64\nincidents       object\ndtype: object"
     },
     "metadata": {},
     "execution_count": 11
    }
   ],
   "source": [
    "airline_incidents.dtypes\n"
   ]
  },
  {
   "cell_type": "code",
   "execution_count": 12,
   "metadata": {},
   "outputs": [
    {
     "output_type": "execute_result",
     "data": {
      "text/plain": "airline          object\nseat-km/week      int64\nincidents       float64\ndtype: object"
     },
     "metadata": {},
     "execution_count": 12
    }
   ],
   "source": [
    "airline_incidents['incidents_cleaned'] = pd.to_numeric(airline_incidents['incidents'], errors='coerce')\n",
    "airline_incidents.dtypes"
   ]
  },
  {
   "cell_type": "code",
   "execution_count": 13,
   "metadata": {},
   "outputs": [
    {
     "output_type": "execute_result",
     "data": {
      "text/plain": "                 airline  seat-km/week  incidents\n0             Aer Lingus     320906734        NaN\n1              Aeroflot*    1197672318       76.0\n2  Aerolineas Argentinas     385803648        6.0\n3            Aeromexico*     596871813        3.0\n4             Air Canada    1865253802        2.0\n5             Air France    3004002661       14.0\n6             Air India*     869253552        2.0\n7       Air New Zealand*     710174817        3.0\n8       Alaska Airlines*     965346773        5.0\n9               Alitalia     698012498        7.0",
      "text/html": "<div>\n<style scoped>\n    .dataframe tbody tr th:only-of-type {\n        vertical-align: middle;\n    }\n\n    .dataframe tbody tr th {\n        vertical-align: top;\n    }\n\n    .dataframe thead th {\n        text-align: right;\n    }\n</style>\n<table border=\"1\" class=\"dataframe\">\n  <thead>\n    <tr style=\"text-align: right;\">\n      <th></th>\n      <th>airline</th>\n      <th>seat-km/week</th>\n      <th>incidents</th>\n    </tr>\n  </thead>\n  <tbody>\n    <tr>\n      <th>0</th>\n      <td>Aer Lingus</td>\n      <td>320906734</td>\n      <td>NaN</td>\n    </tr>\n    <tr>\n      <th>1</th>\n      <td>Aeroflot*</td>\n      <td>1197672318</td>\n      <td>76.0</td>\n    </tr>\n    <tr>\n      <th>2</th>\n      <td>Aerolineas Argentinas</td>\n      <td>385803648</td>\n      <td>6.0</td>\n    </tr>\n    <tr>\n      <th>3</th>\n      <td>Aeromexico*</td>\n      <td>596871813</td>\n      <td>3.0</td>\n    </tr>\n    <tr>\n      <th>4</th>\n      <td>Air Canada</td>\n      <td>1865253802</td>\n      <td>2.0</td>\n    </tr>\n    <tr>\n      <th>5</th>\n      <td>Air France</td>\n      <td>3004002661</td>\n      <td>14.0</td>\n    </tr>\n    <tr>\n      <th>6</th>\n      <td>Air India*</td>\n      <td>869253552</td>\n      <td>2.0</td>\n    </tr>\n    <tr>\n      <th>7</th>\n      <td>Air New Zealand*</td>\n      <td>710174817</td>\n      <td>3.0</td>\n    </tr>\n    <tr>\n      <th>8</th>\n      <td>Alaska Airlines*</td>\n      <td>965346773</td>\n      <td>5.0</td>\n    </tr>\n    <tr>\n      <th>9</th>\n      <td>Alitalia</td>\n      <td>698012498</td>\n      <td>7.0</td>\n    </tr>\n  </tbody>\n</table>\n</div>"
     },
     "metadata": {},
     "execution_count": 13
    }
   ],
   "source": [
    "airline_incidents.head(10)"
   ]
  },
  {
   "cell_type": "code",
   "execution_count": 16,
   "metadata": {
    "tags": []
   },
   "outputs": [
    {
     "output_type": "execute_result",
     "data": {
      "text/plain": "   is_new distribution  votes  rank                                     title\n0   False   .......*..      1   8.0                               Berlin Wall\n1   False   ...2...7..      4   7.0  Castle Of Illusion Starring Mickey Mouse\n2   False   ......*...      1   7.0                             Clutch Hitter\n3   False   ...126....      8   5.5                                   Columns\n4   False   ....5..5..      2   6.5                                  Devilish",
      "text/html": "<div>\n<style scoped>\n    .dataframe tbody tr th:only-of-type {\n        vertical-align: middle;\n    }\n\n    .dataframe tbody tr th {\n        vertical-align: top;\n    }\n\n    .dataframe thead th {\n        text-align: right;\n    }\n</style>\n<table border=\"1\" class=\"dataframe\">\n  <thead>\n    <tr style=\"text-align: right;\">\n      <th></th>\n      <th>is_new</th>\n      <th>distribution</th>\n      <th>votes</th>\n      <th>rank</th>\n      <th>title</th>\n    </tr>\n  </thead>\n  <tbody>\n    <tr>\n      <th>0</th>\n      <td>False</td>\n      <td>.......*..</td>\n      <td>1</td>\n      <td>8.0</td>\n      <td>Berlin Wall</td>\n    </tr>\n    <tr>\n      <th>1</th>\n      <td>False</td>\n      <td>...2...7..</td>\n      <td>4</td>\n      <td>7.0</td>\n      <td>Castle Of Illusion Starring Mickey Mouse</td>\n    </tr>\n    <tr>\n      <th>2</th>\n      <td>False</td>\n      <td>......*...</td>\n      <td>1</td>\n      <td>7.0</td>\n      <td>Clutch Hitter</td>\n    </tr>\n    <tr>\n      <th>3</th>\n      <td>False</td>\n      <td>...126....</td>\n      <td>8</td>\n      <td>5.5</td>\n      <td>Columns</td>\n    </tr>\n    <tr>\n      <th>4</th>\n      <td>False</td>\n      <td>....5..5..</td>\n      <td>2</td>\n      <td>6.5</td>\n      <td>Devilish</td>\n    </tr>\n  </tbody>\n</table>\n</div>"
     },
     "metadata": {},
     "execution_count": 16
    }
   ],
   "source": [
    "import re\n",
    "import pandas as pd\n",
    "\n",
    "game_info = pd.DataFrame\n",
    "metadata_dict = {}\n",
    "\n",
    "is_new = []\n",
    "distribution = []\n",
    "votes = []\n",
    "rank = []\n",
    "title = []\n",
    "\n",
    "headerFound = False\n",
    "with open('data/sega.txt') as sega:\n",
    "    for line in sega:\n",
    "        # do stuff to find header\n",
    "        if not headerFound:\n",
    "            continue\n",
    "        meta_match = re.match(r'([\\w-]+): (.*)', line)\n",
    "        if meta_match:\n",
    "            metadata_dict[meta_match.group(1)] = meta_match.group(2)\n",
    "            continue\n",
    "        rating_match = re.match(r' ([\\* ])\\s+([\\d\\.\\*]{10})\\s+(\\d{1,2})\\s+([\\d\\.]+)\\s+(.*)', line)\n",
    "        if rating_match:\n",
    "            is_new.append(True if rating_match.group(1) is '*' else False)\n",
    "            distribution.append(rating_match.group(2))\n",
    "            votes.append(int(rating_match.group(3)))\n",
    "            rank.append(float(rating_match.group(4)))\n",
    "            title.append(rating_match.group(5))\n",
    "        # look for condition\n",
    "        # parse the line\n",
    "        # feed into data structure\n",
    "\n",
    "rating_data = {}\n",
    "rating_data['is_new'] = is_new\n",
    "rating_data['distribution'] = distribution\n",
    "rating_data['votes'] = votes\n",
    "rating_data['rank'] = rank\n",
    "rating_data['title'] = title\n",
    "\n",
    "rating_df = pd.DataFrame(rating_data)\n",
    "\n",
    "rating_df.head()"
   ]
  },
  {
   "cell_type": "code",
   "execution_count": 15,
   "metadata": {
    "tags": []
   },
   "outputs": [
    {
     "output_type": "stream",
     "name": "stdout",
     "text": "{'Path': 'uwm.edu!linac!att!ucbvax!plitvice.berkeley.edu!erc', 'From': 'erc@plitvice.berkeley.edu (Eric Ng)', 'Newsgroups': 'rec.games.video', 'Subject': 'VIDEO GAME RATINGS REPORT (SEGA GENESIS, GAME GEAR)', 'Message-ID': '<44159@ucbvax.BERKELEY.EDU>', 'Date': '1 Apr 92 02:36:51 GMT', 'Sender': 'nobody@ucbvax.BERKELEY.EDU', 'Reply-To': 'video@irss.njit.edu', 'Organization': 'University of California at Berkeley', 'Lines': '177'}\n"
    }
   ],
   "source": [
    "print(metadata_dict)"
   ]
  }
 ]
}